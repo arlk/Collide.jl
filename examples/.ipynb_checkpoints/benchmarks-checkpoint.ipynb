{
 "cells": [
  {
   "cell_type": "code",
   "execution_count": null,
   "metadata": {
    "collapsed": true
   },
   "outputs": [],
   "source": [
    "using Collide"
   ]
  },
  {
   "cell_type": "code",
   "execution_count": null,
   "metadata": {
    "collapsed": true
   },
   "outputs": [],
   "source": [
    "using Compat\n",
    "using BenchmarkTools, QHull, StaticArrays"
   ]
  },
  {
   "cell_type": "code",
   "execution_count": null,
   "metadata": {
    "collapsed": true
   },
   "outputs": [],
   "source": [
    "num = 1000"
   ]
  },
  {
   "cell_type": "code",
   "execution_count": null,
   "metadata": {
    "collapsed": true
   },
   "outputs": [],
   "source": [
    "# 3D benchmark -- No collision\n",
    "poly = rand(num,3)\n",
    "ch1 = chull(poly)\n",
    "poly1 = ch1.points[unique(collect(Iterators.flatten(ch1.simplices))),:]' \n",
    "sz = size(poly1)\n",
    "\n",
    "poly = rand(num,3) + 1.3 \n",
    "ch2 = chull(poly)\n",
    "poly2 = ch2.points[unique(collect(Iterators.flatten(ch2.simplices))),:]' \n",
    "sz = size(poly2)\n",
    "\n",
    "@benchmark gjk(poly1, poly2, SVector(0,0,1.))"
   ]
  },
  {
   "cell_type": "code",
   "execution_count": null,
   "metadata": {
    "collapsed": true
   },
   "outputs": [],
   "source": [
    "# 3D benchmark -- No collision\n",
    "poly = rand(num,3)\n",
    "ch1 = chull(poly)\n",
    "poly1 = ch1.points[unique(collect(Iterators.flatten(ch1.simplices))),:]' \n",
    "sz = size(poly1)\n",
    "\n",
    "poly = rand(num,3) + 0.5 \n",
    "ch2 = chull(poly)\n",
    "poly2 = ch2.points[unique(collect(Iterators.flatten(ch2.simplices))),:]' \n",
    "sz = size(poly2)\n",
    "\n",
    "@benchmark gjk(poly1, poly2, SVector(0,0,1.))"
   ]
  }
 ],
 "metadata": {
  "kernelspec": {
   "display_name": "Julia 0.6.0",
   "language": "julia",
   "name": "julia-0.6"
  },
  "language_info": {
   "file_extension": ".jl",
   "mimetype": "application/julia",
   "name": "julia",
   "version": "0.6.0"
  }
 },
 "nbformat": 4,
 "nbformat_minor": 1
}
