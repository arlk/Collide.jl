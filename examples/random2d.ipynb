{
 "cells": [
  {
   "cell_type": "code",
   "execution_count": 1,
   "metadata": {
    "collapsed": true
   },
   "outputs": [],
   "source": [
    "using Collide"
   ]
  },
  {
   "cell_type": "code",
   "execution_count": 2,
   "metadata": {
    "collapsed": true
   },
   "outputs": [],
   "source": [
    "using Plots, QHull, StaticArrays"
   ]
  },
  {
   "cell_type": "code",
   "execution_count": 6,
   "metadata": {
    "collapsed": false
   },
   "outputs": [],
   "source": [
    "# Rotate a polygon (about its center) by θ\n",
    "R(θ,poly) = [cos(θ) -sin(θ); sin(θ) cos(θ)]*(poly .- sum(poly, 2)/size(poly, 2)) .+ sum(poly, 2)/size(poly, 2)"
   ]
  },
  {
   "cell_type": "code",
   "execution_count": 12,
   "metadata": {
    "collapsed": false
   },
   "outputs": [],
   "source": [
    "poly = rand(10, 2)\n",
    "ch1 = chull(poly)\n",
    "poly1 = ch1.points[ch1.vertices, :]' \n",
    "\n",
    "poly = rand(10, 2) .+ [1.7 0.0] \n",
    "ch2 = chull(poly)\n",
    "poly2 = ch2.points[ch2.vertices, :]'"
   ]
  },
  {
   "cell_type": "code",
   "execution_count": 13,
   "metadata": {
    "collapsed": false
   },
   "outputs": [
    {
     "name": "stderr",
     "output_type": "stream",
     "text": [
      "\u001b[1m\u001b[36mINFO: \u001b[39m\u001b[22m\u001b[36mSaved animation to /home/arun/.julia/v0.6/Collide/examples/tmp.gif\n",
      "\u001b[39m"
     ]
    },
    {
     "data": {
      "text/html": [
       "<img src=\"tmp.gif?0.7674612434337114>\" />"
      ],
      "text/plain": [
       "Plots.AnimatedGif(\"/home/arun/.julia/v0.6/Collide/examples/tmp.gif\")"
      ]
     },
     "execution_count": 13,
     "metadata": {},
     "output_type": "execute_result"
    }
   ],
   "source": [
    "maxpt = maximum(hcat(poly1, poly2), 2) + 0.25\n",
    "minpt = minimum(hcat(poly1, poly2), 2) - 0.25\n",
    "@gif for i in linspace(0, 2π, 200)\n",
    "    rpoly1 = R(2.0*i, poly1)\n",
    "    rpoly2 = R(i, poly2)\n",
    "\n",
    "    res = Collide.gjk(rpoly1, rpoly2, SVector(0.0, 1.0))\n",
    "\n",
    "    plot(Shape(rpoly1[1, :], rpoly1[2, :]))\n",
    "    plot!(Shape(rpoly2[1, :], rpoly2[2, :]))\n",
    "    res.status && res.collision || plot!(res.contact[1, :], res.contact[2, :], color=:red, marker=:circle, linewidth=:3)\n",
    "    plot!(aspect_ratio=:equal, grid=:false, axis=:false, legend=:false)\n",
    "    xlims!((minpt[1], maxpt[1]))\n",
    "    ylims!((minpt[2], maxpt[2]))\n",
    "end"
   ]
  }
 ],
 "metadata": {
  "kernelspec": {
   "display_name": "Julia 0.6.0",
   "language": "julia",
   "name": "julia-0.6"
  },
  "language_info": {
   "file_extension": ".jl",
   "mimetype": "application/julia",
   "name": "julia",
   "version": "0.6.0"
  }
 },
 "nbformat": 4,
 "nbformat_minor": 1
}
