{
 "cells": [
  {
   "cell_type": "code",
   "execution_count": 1,
   "metadata": {
    "collapsed": true
   },
   "outputs": [],
   "source": [
    "using Collide"
   ]
  },
  {
   "cell_type": "code",
   "execution_count": 2,
   "metadata": {
    "collapsed": true
   },
   "outputs": [],
   "source": [
    "using Compat\n",
    "using BenchmarkTools, QHull, StaticArrays"
   ]
  },
  {
   "cell_type": "code",
   "execution_count": 8,
   "metadata": {
    "collapsed": false
   },
   "outputs": [],
   "source": [
    "num = 1000"
   ]
  },
  {
   "cell_type": "code",
   "execution_count": 9,
   "metadata": {
    "collapsed": false
   },
   "outputs": [
    {
     "data": {
      "text/plain": [
       "BenchmarkTools.Trial: \n",
       "  memory estimate:  14.78 KiB\n",
       "  allocs estimate:  108\n",
       "  --------------\n",
       "  minimum time:     12.897 μs (0.00% GC)\n",
       "  median time:      15.612 μs (0.00% GC)\n",
       "  mean time:        20.482 μs (9.05% GC)\n",
       "  maximum time:     4.715 ms (95.51% GC)\n",
       "  --------------\n",
       "  samples:          10000\n",
       "  evals/sample:     1"
      ]
     },
     "execution_count": 9,
     "metadata": {},
     "output_type": "execute_result"
    }
   ],
   "source": [
    "# 2D benchmark -- No collision\n",
    "poly = rand(num,2)\n",
    "ch1 = chull(poly)\n",
    "poly1 = ch1.points[unique(collect(Iterators.flatten(ch1.simplices))),:]' \n",
    "sz = size(poly1)\n",
    "\n",
    "poly = rand(num,2) + 1.5 \n",
    "ch2 = chull(poly)\n",
    "poly2 = ch2.points[unique(collect(Iterators.flatten(ch2.simplices))),:]' \n",
    "sz = size(poly2)\n",
    "\n",
    "@benchmark gjk($(poly1), $(poly2), $(SVector(0.0,1.0)))"
   ]
  },
  {
   "cell_type": "code",
   "execution_count": 10,
   "metadata": {
    "collapsed": false
   },
   "outputs": [
    {
     "data": {
      "text/plain": [
       "BenchmarkTools.Trial: \n",
       "  memory estimate:  22.50 KiB\n",
       "  allocs estimate:  170\n",
       "  --------------\n",
       "  minimum time:     20.912 μs (0.00% GC)\n",
       "  median time:      23.050 μs (0.00% GC)\n",
       "  mean time:        27.305 μs (9.34% GC)\n",
       "  maximum time:     2.903 ms (92.76% GC)\n",
       "  --------------\n",
       "  samples:          10000\n",
       "  evals/sample:     1"
      ]
     },
     "execution_count": 10,
     "metadata": {},
     "output_type": "execute_result"
    }
   ],
   "source": [
    "# 2D benchmark -- Collision\n",
    "poly = rand(num,2)\n",
    "ch1 = chull(poly)\n",
    "poly1 = ch1.points[unique(collect(Iterators.flatten(ch1.simplices))),:]' \n",
    "sz = size(poly1)\n",
    "\n",
    "poly = rand(num,2) + 0.5 \n",
    "ch2 = chull(poly)\n",
    "poly2 = ch2.points[unique(collect(Iterators.flatten(ch2.simplices))),:]' \n",
    "sz = size(poly2)\n",
    "\n",
    "@benchmark gjk($(poly1), $(poly2), $(SVector(0.0,1.0)))"
   ]
  },
  {
   "cell_type": "code",
   "execution_count": 11,
   "metadata": {
    "collapsed": false
   },
   "outputs": [
    {
     "data": {
      "text/plain": [
       "BenchmarkTools.Trial: \n",
       "  memory estimate:  31.06 KiB\n",
       "  allocs estimate:  179\n",
       "  --------------\n",
       "  minimum time:     25.045 μs (0.00% GC)\n",
       "  median time:      27.178 μs (0.00% GC)\n",
       "  mean time:        31.046 μs (9.22% GC)\n",
       "  maximum time:     2.494 ms (92.43% GC)\n",
       "  --------------\n",
       "  samples:          10000\n",
       "  evals/sample:     1"
      ]
     },
     "execution_count": 11,
     "metadata": {},
     "output_type": "execute_result"
    }
   ],
   "source": [
    "# 3D benchmark -- No collision\n",
    "poly = rand(num,3)\n",
    "ch1 = chull(poly)\n",
    "poly1 = ch1.points[unique(collect(Iterators.flatten(ch1.simplices))),:]' \n",
    "sz = size(poly1)\n",
    "\n",
    "poly = rand(num,3) + 1.5 \n",
    "ch2 = chull(poly)\n",
    "poly2 = ch2.points[unique(collect(Iterators.flatten(ch2.simplices))),:]' \n",
    "sz = size(poly2)\n",
    "\n",
    "@benchmark gjk($(poly1), $(poly2), $(SVector(0.0,0.0,1.0)))"
   ]
  },
  {
   "cell_type": "code",
   "execution_count": 12,
   "metadata": {
    "collapsed": false
   },
   "outputs": [
    {
     "data": {
      "text/plain": [
       "BenchmarkTools.Trial: \n",
       "  memory estimate:  42.16 KiB\n",
       "  allocs estimate:  281\n",
       "  --------------\n",
       "  minimum time:     34.735 μs (0.00% GC)\n",
       "  median time:      38.933 μs (0.00% GC)\n",
       "  mean time:        44.955 μs (8.83% GC)\n",
       "  maximum time:     3.238 ms (91.24% GC)\n",
       "  --------------\n",
       "  samples:          10000\n",
       "  evals/sample:     1"
      ]
     },
     "execution_count": 12,
     "metadata": {},
     "output_type": "execute_result"
    }
   ],
   "source": [
    "# 3D benchmark -- Collision\n",
    "poly = rand(num,3)\n",
    "ch1 = chull(poly)\n",
    "poly1 = ch1.points[unique(collect(Iterators.flatten(ch1.simplices))),:]' \n",
    "sz = size(poly1)\n",
    "\n",
    "poly = rand(num,3) + 0.5 \n",
    "ch2 = chull(poly)\n",
    "poly2 = ch2.points[unique(collect(Iterators.flatten(ch2.simplices))),:]' \n",
    "sz = size(poly2)\n",
    "\n",
    "@benchmark gjk($(poly1), $(poly2), $(SVector(0.0,0.0,1.0)))"
   ]
  }
 ],
 "metadata": {
  "kernelspec": {
   "display_name": "Julia 0.6.0",
   "language": "julia",
   "name": "julia-0.6"
  },
  "language_info": {
   "file_extension": ".jl",
   "mimetype": "application/julia",
   "name": "julia",
   "version": "0.6.0"
  }
 },
 "nbformat": 4,
 "nbformat_minor": 1
}
